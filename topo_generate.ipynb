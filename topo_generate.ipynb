{
 "cells": [
  {
   "cell_type": "code",
   "execution_count": null,
   "id": "initial_id",
   "metadata": {
    "collapsed": true
   },
   "outputs": [],
   "source": [
    "import pandas as pd\n",
    "import re\n",
    "from itertools import product\n",
    "from lightgbm import LGBMClassifier\n",
    "import pandas as pd\n",
    "import matplotlib.pylab as plt\n",
    "import lightgbm as lgb\n",
    "from sklearn.model_selection import KFold, cross_val_score as CVS, train_test_split as TTS\n",
    "from sklearn.metrics import accuracy_score, precision_score,recall_score,f1_score\n",
    "from sklearn.model_selection import cross_val_score\n",
    "from sklearn.model_selection import KFold\n",
    "from numpy import mean\n",
    "from sklearn.metrics import confusion_matrix, classification_report, roc_auc_score\n",
    "from shapely.geometry import LineString, Point\n",
    "from geopy.distance import geodesic\n",
    "import geopandas as gpd\n",
    "import os\n",
    "from sklearn.linear_model import LogisticRegression\n",
    "from sklearn.naive_bayes import GaussianNB\n",
    "from sklearn.discriminant_analysis import LinearDiscriminantAnalysis\n",
    "from sklearn.neighbors import KNeighborsClassifier\n",
    "from sklearn.tree import DecisionTreeClassifier\n",
    "from sklearn.ensemble import RandomForestClassifier, AdaBoostClassifier, GradientBoostingClassifier\n",
    "from sklearn.svm import SVC\n",
    "from xgboost import XGBClassifier\n",
    "from lightgbm import LGBMClassifier\n",
    "from sklearn.discriminant_analysis import QuadraticDiscriminantAnalysis\n",
    "from sklearn.gaussian_process import GaussianProcessClassifier\n",
    "from sklearn.linear_model import SGDClassifier\n",
    "from sklearn.svm import LinearSVC\n",
    "from sklearn.neural_network import MLPClassifier"
   ]
  },
  {
   "cell_type": "code",
   "execution_count": null,
   "outputs": [],
   "source": [
    "\n",
    "def modelCompare( X_train, y_train, X_test,  y_test):\n",
    "    # Split the data into train and test sets\n",
    "    # X_train, X_test, y_train, y_test = TTS(X, y, test_size=0.2, random_state=10)\n",
    "    \n",
    "    # Define the classifiers\n",
    "    classifiers = [\n",
    "        (\"Logistic Regression\", LogisticRegression()),\n",
    "        (\"Naive Bayes\", GaussianNB()),\n",
    "        (\"Linear Discriminant Analysis\", LinearDiscriminantAnalysis()),\n",
    "        (\"K-Nearest Neighbors\", KNeighborsClassifier()),\n",
    "        (\"Decision Tree\", DecisionTreeClassifier()),\n",
    "        (\"Random Forest\", RandomForestClassifier()),\n",
    "        (\"Support Vector Machines\", SVC(probability=True)),\n",
    "        (\"Gradient Boosting\", GradientBoostingClassifier()),\n",
    "        (\"AdaBoost\", AdaBoostClassifier()),\n",
    "        (\"XGBoost\", XGBClassifier(use_label_encoder=False, eval_metric=\"logloss\")),\n",
    "        (\"LightGBM\", LGBMClassifier()),\n",
    "        (\"Quadratic Discriminant Analysis\", QuadraticDiscriminantAnalysis()),\n",
    "        (\"Gaussian Process Classifier\", GaussianProcessClassifier()),\n",
    "        (\"Stochastic Gradient Descent\", SGDClassifier()),\n",
    "        (\"Linear Support Vector Machines\", LinearSVC()),\n",
    "        (\"Multi-Layer Perceptron\", MLPClassifier())\n",
    "    ]\n",
    "\n",
    "    # Train and evaluate the classifiers\n",
    "    results = []\n",
    "    for name, clf in classifiers:\n",
    "        clf.fit(X_train, y_train)\n",
    "        y_pred = clf.predict(X_test)\n",
    "\n",
    "        accuracy = accuracy_score(y_test, y_pred)\n",
    "        precision = precision_score(y_test, y_pred)\n",
    "        recall = recall_score(y_test, y_pred)\n",
    "        f1 = f1_score(y_test, y_pred)\n",
    "        cm = confusion_matrix(y_test, y_pred)\n",
    "\n",
    "        result = {\n",
    "            \"Classifier\": name,\n",
    "            \"Accuracy\": accuracy,\n",
    "            \"Precision\": precision,\n",
    "            \"Recall\": recall,\n",
    "            \"F1 Score\": f1,\n",
    "            \"Confusion Matrix\": cm\n",
    "        }\n",
    "        results.append(result)\n",
    "\n",
    "    # Convert the results to a DataFrame and display\n",
    "    results_df = pd.DataFrame(results)\n",
    "    results_df = results_df[[\"Classifier\", \"Accuracy\", \"Precision\", \"Recall\", \"F1 Score\",\"Confusion Matrix\"]]\n",
    "    return results_df"
   ],
   "metadata": {
    "collapsed": false
   },
   "id": "2b6aeab88efa2f6e"
  },
  {
   "cell_type": "code",
   "execution_count": null,
   "outputs": [],
   "source": [
    "def five_fold(X, y):\n",
    "\n",
    "    X_train,X_test,y_train,y_test = TTS(X,y,test_size=0.3,random_state=420)\n",
    "    lgbm = LGBMClassifier(n_estimators=80, learning_rate=0.1, max_depth=5, num_leaves=7, min_child_samples=5,\n",
    "                          reg_alpha=0.0, reg_lambda=0.0, min_split_gain=0.0, subsample=0.5, colsample_bytree=0.5,\n",
    "                          subsample_freq=3, min_child_weight=0.001)\n",
    "\n",
    "    kf = KFold(n_splits=5, shuffle=True, random_state=1)\n",
    "\n",
    "    accuracy_scores = []\n",
    "    precision_scores = []\n",
    "    recall_scores = []\n",
    "    f1_scores = []\n",
    "\n",
    "    for train_index, test_index in kf.split(X):\n",
    "        X_train, X_test = X.iloc[train_index], X.iloc[test_index]\n",
    "        y_train, y_test = y.iloc[train_index], y.iloc[test_index]\n",
    "\n",
    "        lgbm.fit(X_train, y_train)\n",
    "        y_pred = lgbm.predict(X_test)\n",
    "\n",
    "        accuracy_scores.append(accuracy_score(y_test, y_pred))\n",
    "        precision_scores.append(precision_score(y_test, y_pred))\n",
    "        recall_scores.append(recall_score(y_test, y_pred))\n",
    "        f1_scores.append(f1_score(y_test, y_pred))\n",
    "\n",
    "    print(f\"5-Fold Cross Validation Accuracy: {mean(accuracy_scores)}\")\n",
    "    print(f\"5-Fold Cross Validation Precision: {mean(precision_scores)}\")\n",
    "    print(f\"5-Fold Cross Validation Recall: {mean(recall_scores)}\")\n",
    "    print(f\"5-Fold Cross Validation F1 Score: {mean(f1_scores)}\")\n",
    "    score = pd.DataFrame({'acc': accuracy_scores, 'pre': precision_scores, 'recall':recall_scores, 'f1': f1_scores})\n",
    "    return lgbm, score"
   ],
   "metadata": {
    "collapsed": false
   },
   "id": "3054318d85eb97b6"
  },
  {
   "cell_type": "code",
   "execution_count": null,
   "outputs": [],
   "source": [
    "def getScore(y,y_pred):\n",
    "    print(\"Accuracy:{} \".format(accuracy_score(y, y_pred)))\n",
    "    print(\"Precision:{} \".format(precision_score(y, y_pred)))\n",
    "    print(\"Recall:{} \".format(recall_score(y, y_pred)))\n",
    "    print(\"F1 Score:{} \".format(f1_score(y, y_pred)))"
   ],
   "metadata": {
    "collapsed": false
   },
   "id": "e800ca4ec0251359"
  },
  {
   "cell_type": "code",
   "execution_count": null,
   "outputs": [],
   "source": [
    "def confusion(y, y_pred):\n",
    "    cm = confusion_matrix(y, y_pred)\n",
    "    print(\"Confusion Matrix:\")\n",
    "    print(cm)\n",
    "    return cm"
   ],
   "metadata": {
    "collapsed": false
   },
   "id": "c6571a5f473d2da1"
  },
  {
   "cell_type": "code",
   "execution_count": null,
   "outputs": [],
   "source": [
    "# 三个地市数据进行训练\n",
    "city_data_train= pd.read_csv('data/city_data_train.csv')\n",
    "city_data_test= pd.read_csv('data/city_data_test.csv')\n",
    "X_c_train = city_data_train[['timedelta', 'entype', 'extype', 'cnt', 'oricnt', 'descnt']]\n",
    "y_c_train = city_data_train[['iscor']]\n",
    "\n",
    "# 测试集\n",
    "X_c_test = city_data_test[['timedelta', 'entype', 'extype', 'cnt', 'oricnt', 'descnt']]\n",
    "y_c_test = city_data_test[['iscor']]"
   ],
   "metadata": {
    "collapsed": false
   },
   "id": "fd98c3f85b4c2c49"
  },
  {
   "cell_type": "code",
   "execution_count": null,
   "outputs": [],
   "source": [
    "# 验证集（剩余地市的路网数据）\n",
    "flag_data = pd.read_csv('data/flag_data.csv')\n",
    "\n",
    "# 全量数据进行建模预测\n",
    "X_flag_all = flag_data[['timedelta', 'entype', 'extype', 'cnt', 'oricnt', 'descnt']]\n",
    "y_flag_all = flag_data[['iscor']]"
   ],
   "metadata": {
    "collapsed": false
   },
   "id": "684d1e78a84f2f3e"
  },
  {
   "cell_type": "code",
   "execution_count": null,
   "outputs": [],
   "source": [
    "flag_c_lgbm, flag_c_score = five_fold(X_c_train, y_c_train)"
   ],
   "metadata": {
    "collapsed": false
   },
   "id": "458d7c9be6edb77f"
  },
  {
   "cell_type": "code",
   "execution_count": null,
   "outputs": [],
   "source": [
    "getScore(y_c_test, flag_c_lgbm.predict(X_c_test))"
   ],
   "metadata": {
    "collapsed": false
   },
   "id": "66bbb6e0ecb6a96d"
  },
  {
   "cell_type": "code",
   "execution_count": null,
   "outputs": [],
   "source": [
    "confusion(y_c_test, flag_c_lgbm.predict(X_c_test))"
   ],
   "metadata": {
    "collapsed": false
   },
   "id": "c86921cc0fbfb7ac"
  },
  {
   "cell_type": "code",
   "execution_count": null,
   "outputs": [],
   "source": [
    "# 各种算法比较\n",
    "flag_c_score_allmodel = modelCompare(X_c_train,  y_c_train, X_flag_all, y_flag_all)"
   ],
   "metadata": {
    "collapsed": false
   },
   "id": "f5d4b979b8d909b4"
  },
  {
   "cell_type": "code",
   "execution_count": null,
   "outputs": [],
   "source": [
    "flag_c_score_allmodel"
   ],
   "metadata": {
    "collapsed": false
   },
   "id": "2e1df024cf41c42d"
  },
  {
   "cell_type": "markdown",
   "source": [
    "# 区域地市训练的模型预测结果"
   ],
   "metadata": {
    "collapsed": false
   },
   "id": "9e434492b937a6d2"
  },
  {
   "cell_type": "code",
   "execution_count": null,
   "outputs": [],
   "source": [
    "getScore(y_flag_all, flag_c_lgbm.predict(X_flag_all))"
   ],
   "metadata": {
    "collapsed": false
   },
   "id": "263f84950a2426f1"
  },
  {
   "cell_type": "markdown",
   "source": [
    "# 可计算路网绘图\n",
    "## 门架及收费站经纬度可视化"
   ],
   "metadata": {
    "collapsed": false
   },
   "id": "a3012c0acefbda6"
  },
  {
   "cell_type": "code",
   "execution_count": null,
   "outputs": [],
   "source": [
    "flag_node_loc = read_ck(\"\"\"\n",
    "select \n",
    "    node\n",
    "    , toFloat64(splitByChar(',', location)[1]) lng\n",
    "\t, toFloat64(splitByChar(',', location)[2]) lat\n",
    "from (\n",
    "select\n",
    "\tdistinct node \n",
    "\t, location\n",
    "from(\n",
    "select EnNode node,locationEn1 location from topo.dwd_topo dt \n",
    "union all\n",
    "select EnNode node,locationEn1 location  from topo.dwd_topo dt )\n",
    "where length(location) > 1)\"\"\")"
   ],
   "metadata": {
    "collapsed": false
   },
   "id": "d7cb4e59369983b0"
  },
  {
   "cell_type": "code",
   "execution_count": null,
   "outputs": [],
   "source": [
    "flag_node_loc['nodetype'] = flag_node_loc.node.map(lambda x: 1 if x[-2:] == 'EN' or x[-2:] == 'EX' else 2)"
   ],
   "metadata": {
    "collapsed": false
   },
   "id": "3dceb2af9e96a314"
  },
  {
   "cell_type": "code",
   "execution_count": null,
   "outputs": [],
   "source": [
    "flag_node_loc['geometry'] = flag_node_loc.apply(lambda x: Point(x.lng, x.lat), axis=1)\n",
    "flag_node_loc = tools.df2gdf(flag_node_loc)\n",
    "flag_node_loc.to_file('shp/flag_node_loc.shp', driver='ESRI Shapefile', encoding='utf-8')"
   ],
   "metadata": {
    "collapsed": false
   },
   "id": "2554b8feec066b94"
  },
  {
   "cell_type": "markdown",
   "source": [
    "# 门架收费站拓扑绘制   "
   ],
   "metadata": {
    "collapsed": false
   },
   "id": "2bf3b12b081db7ae"
  },
  {
   "cell_type": "code",
   "execution_count": null,
   "outputs": [],
   "source": [
    "flag_data_plot = pd.merge(flag_data, flag_node_loc[['node', 'geometry']], left_on='ennode', right_on='node', how='inner')\n",
    "flag_data_plot = pd.merge(flag_data_plot, flag_node_loc[['node', 'geometry']], left_on='exnode', right_on='node', how='inner')\n",
    "flag_data_plot['geometry'] = flag_data_plot.apply(lambda x: LineString([x.geometry_x, x.geometry_y]), axis=1)\n",
    "flag_data_plot = tools.df2gdf(flag_data_plot)\n",
    "flag_data_plot[['section', 'cnt', 'geometry']]\n",
    "flag_data_plot[['section', 'cnt', 'geometry']].to_file('shp/ori_flag_topo.shp', driver='ESRI Shapefile', encoding='utf-8')\n",
    "flag_topo_pred_plot = pd.merge(flag_topo_pred, flag_node_loc[['node', 'geometry']], left_on='ennode', right_on='node', how='inner')\n",
    "flag_topo_pred_plot = pd.merge(flag_topo_pred_plot, flag_node_loc[['node', 'geometry']], left_on='exnode', right_on='node', how='inner')\n",
    "flag_topo_pred_plot['geometry'] = flag_topo_pred_plot.apply(lambda x: LineString([x.geometry_x, x.geometry_y]), axis=1)\n",
    "flag_topo_pred_plot  = tools.df2gdf(flag_topo_pred_plot)\n",
    "flag_topo_pred_plot[['section', 'cnt', 'geometry']]\n",
    "\n",
    "\n",
    "# 预测拓扑\n",
    "flag_topo_pred_plot[['section', 'cnt', 'geometry']].to_file('shp/pred_flag_topo.shp', driver='ESRI Shapefile', encoding='utf-8')\n",
    "\n",
    "# 正确拓扑\n",
    "right_flag_topo = read_ck(\"\"\"\n",
    "select \n",
    "OD,EnNodename ,ExNodename \n",
    ", (locationEn[1], locationEn[2]) en\n",
    ", (locationEx[1], locationEx[2]) ex\n",
    "from(\n",
    "select OD,EnNodename ,ExNodename \n",
    ", arrayMap(x->toFloat64(x), splitByChar(',', locationEn)) locationEn \n",
    ",arrayMap(x->toFloat64(x), splitByChar(',', locationEx)) locationEx \n",
    "from topo.dwd_topo_new dtn \n",
    "where distance != 0)\n",
    "\n",
    "\"\"\")\n",
    "\n",
    "right_flag_topo['geometry'] = right_flag_topo.apply(lambda x: LineString([eval(x.en), eval(x.ex)]) , axis=1)\n",
    "right_flag_topo = tools.df2gdf(right_flag_topo)\n",
    "right_flag_topo.to_file('shp/right_flag_topo.shp', driver='ESRI Shapefile', encoding='utf-8')"
   ],
   "metadata": {
    "collapsed": false
   },
   "id": "836634288d3d01e5"
  },
  {
   "cell_type": "markdown",
   "source": [
    "# 门架区域级绘图"
   ],
   "metadata": {
    "collapsed": false
   },
   "id": "48df8bae003b1d45"
  },
  {
   "cell_type": "code",
   "execution_count": null,
   "outputs": [],
   "source": [
    "city_data_train['pred'] = flag_c_lgbm.predict(X_c_train)\n",
    "\n",
    "city_data_train_plot = pd.merge(city_data_train, flag_node_loc[['node', 'geometry']], left_on='ennode', right_on='node', how='inner')\n",
    "city_data_train_plot = pd.merge(city_data_train_plot, flag_node_loc[['node', 'geometry']], left_on='exnode', right_on='node', how='inner')\n",
    "\n",
    "city_data_train_plot['geometry'] = city_data_train_plot.apply(lambda x: LineString([x.geometry_x, x.geometry_y]), axis=1)\n",
    "city_data_train_plot  = tools.df2gdf(city_data_train_plot)\n",
    "city_data_train_plot[['section', 'cnt', 'geometry', 'iscor', 'pred']]\n",
    "\n",
    "city_data_train_plot[['section', 'cnt', 'geometry', 'iscor', 'pred']].to_file('shp/city_data_train_plot.shp', driver='ESRI Shapefile', encoding='utf-8')"
   ],
   "metadata": {
    "collapsed": false
   },
   "id": "148bd171aed049d0"
  }
 ],
 "metadata": {
  "kernelspec": {
   "display_name": "Python 3",
   "language": "python",
   "name": "python3"
  },
  "language_info": {
   "codemirror_mode": {
    "name": "ipython",
    "version": 2
   },
   "file_extension": ".py",
   "mimetype": "text/x-python",
   "name": "python",
   "nbconvert_exporter": "python",
   "pygments_lexer": "ipython2",
   "version": "2.7.6"
  }
 },
 "nbformat": 4,
 "nbformat_minor": 5
}
