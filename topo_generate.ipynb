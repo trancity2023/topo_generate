{
 "cells": [
  {
   "cell_type": "code",
   "execution_count": 3,
   "id": "initial_id",
   "metadata": {
    "collapsed": true,
    "ExecuteTime": {
     "end_time": "2024-11-03T07:34:40.190540300Z",
     "start_time": "2024-11-03T07:34:39.898200100Z"
    }
   },
   "outputs": [],
   "source": [
    "import pandas as pd\n",
    "import re\n",
    "from itertools import product\n",
    "from lightgbm import LGBMClassifier\n",
    "import pandas as pd\n",
    "import matplotlib.pylab as plt\n",
    "import lightgbm as lgb\n",
    "from sklearn.model_selection import KFold, cross_val_score as CVS, train_test_split as TTS\n",
    "from sklearn.metrics import accuracy_score, precision_score,recall_score,f1_score\n",
    "from sklearn.model_selection import cross_val_score\n",
    "from sklearn.model_selection import KFold\n",
    "from numpy import mean\n",
    "from sklearn.metrics import confusion_matrix, classification_report, roc_auc_score\n",
    "from shapely.geometry import LineString, Point\n",
    "from geopy.distance import geodesic\n",
    "import geopandas as gpd\n",
    "import os\n",
    "from sklearn.linear_model import LogisticRegression\n",
    "from sklearn.naive_bayes import GaussianNB\n",
    "from sklearn.discriminant_analysis import LinearDiscriminantAnalysis\n",
    "from sklearn.neighbors import KNeighborsClassifier\n",
    "from sklearn.tree import DecisionTreeClassifier\n",
    "from sklearn.ensemble import RandomForestClassifier, AdaBoostClassifier, GradientBoostingClassifier\n",
    "from sklearn.svm import SVC\n",
    "from xgboost import XGBClassifier\n",
    "from lightgbm import LGBMClassifier\n",
    "from sklearn.discriminant_analysis import QuadraticDiscriminantAnalysis\n",
    "from sklearn.gaussian_process import GaussianProcessClassifier\n",
    "from sklearn.linear_model import SGDClassifier\n",
    "from sklearn.svm import LinearSVC\n",
    "from sklearn.neural_network import MLPClassifier"
   ]
  },
  {
   "cell_type": "code",
   "execution_count": 4,
   "outputs": [],
   "source": [
    "\n",
    "def modelCompare( X_train, y_train, X_test,  y_test):\n",
    "    # Split the data into train and test sets\n",
    "    # X_train, X_test, y_train, y_test = TTS(X, y, test_size=0.2, random_state=10)\n",
    "\n",
    "    # Define the classifiers\n",
    "    classifiers = [\n",
    "        (\"Logistic Regression\", LogisticRegression()),\n",
    "        (\"Naive Bayes\", GaussianNB()),\n",
    "        (\"Linear Discriminant Analysis\", LinearDiscriminantAnalysis()),\n",
    "        (\"K-Nearest Neighbors\", KNeighborsClassifier()),\n",
    "        (\"Decision Tree\", DecisionTreeClassifier()),\n",
    "        (\"Random Forest\", RandomForestClassifier()),\n",
    "        (\"Support Vector Machines\", SVC(probability=True)),\n",
    "        (\"Gradient Boosting\", GradientBoostingClassifier()),\n",
    "        (\"AdaBoost\", AdaBoostClassifier()),\n",
    "        (\"XGBoost\", XGBClassifier(use_label_encoder=False, eval_metric=\"logloss\")),\n",
    "        (\"LightGBM\", LGBMClassifier()),\n",
    "        (\"Quadratic Discriminant Analysis\", QuadraticDiscriminantAnalysis()),\n",
    "        (\"Gaussian Process Classifier\", GaussianProcessClassifier()),\n",
    "        (\"Stochastic Gradient Descent\", SGDClassifier()),\n",
    "        (\"Linear Support Vector Machines\", LinearSVC()),\n",
    "        (\"Multi-Layer Perceptron\", MLPClassifier())\n",
    "    ]\n",
    "\n",
    "    # Train and evaluate the classifiers\n",
    "    results = []\n",
    "    for name, clf in classifiers:\n",
    "        clf.fit(X_train, y_train)\n",
    "        y_pred = clf.predict(X_test)\n",
    "\n",
    "        accuracy = accuracy_score(y_test, y_pred)\n",
    "        precision = precision_score(y_test, y_pred)\n",
    "        recall = recall_score(y_test, y_pred)\n",
    "        f1 = f1_score(y_test, y_pred)\n",
    "        cm = confusion_matrix(y_test, y_pred)\n",
    "\n",
    "        result = {\n",
    "            \"Classifier\": name,\n",
    "            \"Accuracy\": accuracy,\n",
    "            \"Precision\": precision,\n",
    "            \"Recall\": recall,\n",
    "            \"F1 Score\": f1,\n",
    "            \"Confusion Matrix\": cm\n",
    "        }\n",
    "        results.append(result)\n",
    "\n",
    "    # Convert the results to a DataFrame and display\n",
    "    results_df = pd.DataFrame(results)\n",
    "    results_df = results_df[[\"Classifier\", \"Accuracy\", \"Precision\", \"Recall\", \"F1 Score\",\"Confusion Matrix\"]]\n",
    "    return results_df"
   ],
   "metadata": {
    "collapsed": false,
    "ExecuteTime": {
     "end_time": "2024-11-03T07:34:40.271786600Z",
     "start_time": "2024-11-03T07:34:40.229816Z"
    }
   },
   "id": "2b6aeab88efa2f6e"
  },
  {
   "cell_type": "code",
   "execution_count": 5,
   "outputs": [],
   "source": [
    "def five_fold(X, y):\n",
    "\n",
    "    X_train,X_test,y_train,y_test = TTS(X,y,test_size=0.3,random_state=420)\n",
    "    lgbm = LGBMClassifier(n_estimators=80, learning_rate=0.1, max_depth=5, num_leaves=7, min_child_samples=5,\n",
    "                          reg_alpha=0.0, reg_lambda=0.0, min_split_gain=0.0, subsample=0.5, colsample_bytree=0.5,\n",
    "                          subsample_freq=3, min_child_weight=0.001)\n",
    "\n",
    "    kf = KFold(n_splits=5, shuffle=True, random_state=1)\n",
    "\n",
    "    accuracy_scores = []\n",
    "    precision_scores = []\n",
    "    recall_scores = []\n",
    "    f1_scores = []\n",
    "\n",
    "    for train_index, test_index in kf.split(X):\n",
    "        X_train, X_test = X.iloc[train_index], X.iloc[test_index]\n",
    "        y_train, y_test = y.iloc[train_index], y.iloc[test_index]\n",
    "\n",
    "        lgbm.fit(X_train, y_train)\n",
    "        y_pred = lgbm.predict(X_test)\n",
    "\n",
    "        accuracy_scores.append(accuracy_score(y_test, y_pred))\n",
    "        precision_scores.append(precision_score(y_test, y_pred))\n",
    "        recall_scores.append(recall_score(y_test, y_pred))\n",
    "        f1_scores.append(f1_score(y_test, y_pred))\n",
    "\n",
    "    print(f\"5-Fold Cross Validation Accuracy: {mean(accuracy_scores)}\")\n",
    "    print(f\"5-Fold Cross Validation Precision: {mean(precision_scores)}\")\n",
    "    print(f\"5-Fold Cross Validation Recall: {mean(recall_scores)}\")\n",
    "    print(f\"5-Fold Cross Validation F1 Score: {mean(f1_scores)}\")\n",
    "    score = pd.DataFrame({'acc': accuracy_scores, 'pre': precision_scores, 'recall':recall_scores, 'f1': f1_scores})\n",
    "    return lgbm, score"
   ],
   "metadata": {
    "collapsed": false,
    "ExecuteTime": {
     "end_time": "2024-11-03T07:34:47.959638600Z",
     "start_time": "2024-11-03T07:34:47.893965Z"
    }
   },
   "id": "3054318d85eb97b6"
  },
  {
   "cell_type": "code",
   "execution_count": 6,
   "outputs": [],
   "source": [
    "def getScore(y,y_pred):\n",
    "    print(\"Accuracy:{} \".format(accuracy_score(y, y_pred)))\n",
    "    print(\"Precision:{} \".format(precision_score(y, y_pred)))\n",
    "    print(\"Recall:{} \".format(recall_score(y, y_pred)))\n",
    "    print(\"F1 Score:{} \".format(f1_score(y, y_pred)))"
   ],
   "metadata": {
    "collapsed": false,
    "ExecuteTime": {
     "end_time": "2024-11-03T07:34:54.479427100Z",
     "start_time": "2024-11-03T07:34:54.424014100Z"
    }
   },
   "id": "e800ca4ec0251359"
  },
  {
   "cell_type": "code",
   "execution_count": 7,
   "outputs": [],
   "source": [
    "def confusion(y, y_pred):\n",
    "    cm = confusion_matrix(y, y_pred)\n",
    "    print(\"Confusion Matrix:\")\n",
    "    print(cm)\n",
    "    return cm"
   ],
   "metadata": {
    "collapsed": false,
    "ExecuteTime": {
     "end_time": "2024-11-03T07:34:57.907109800Z",
     "start_time": "2024-11-03T07:34:57.838785800Z"
    }
   },
   "id": "c6571a5f473d2da1"
  },
  {
   "cell_type": "code",
   "execution_count": null,
   "outputs": [],
   "source": [],
   "metadata": {
    "collapsed": false
   },
   "id": "fd98c3f85b4c2c49"
  },
  {
   "cell_type": "code",
   "execution_count": null,
   "outputs": [],
   "source": [],
   "metadata": {
    "collapsed": false
   },
   "id": "684d1e78a84f2f3e"
  }
 ],
 "metadata": {
  "kernelspec": {
   "display_name": "Python 3",
   "language": "python",
   "name": "python3"
  },
  "language_info": {
   "codemirror_mode": {
    "name": "ipython",
    "version": 2
   },
   "file_extension": ".py",
   "mimetype": "text/x-python",
   "name": "python",
   "nbconvert_exporter": "python",
   "pygments_lexer": "ipython2",
   "version": "2.7.6"
  }
 },
 "nbformat": 4,
 "nbformat_minor": 5
}
